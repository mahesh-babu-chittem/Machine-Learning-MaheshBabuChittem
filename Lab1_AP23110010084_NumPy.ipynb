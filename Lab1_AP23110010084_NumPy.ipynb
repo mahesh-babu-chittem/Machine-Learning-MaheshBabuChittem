{
  "cells": [
    {
      "cell_type": "markdown",
      "metadata": {
        "id": "view-in-github",
        "colab_type": "text"
      },
      "source": [
        "<a href=\"https://colab.research.google.com/github/mahesh-babu-chittem/Machine-Learning-MaheshBabuChittem/blob/main/Lab1_AP23110010084_NumPy.ipynb\" target=\"_parent\"><img src=\"https://colab.research.google.com/assets/colab-badge.svg\" alt=\"Open In Colab\"/></a>"
      ]
    },
    {
      "cell_type": "markdown",
      "id": "20dc80e4",
      "metadata": {
        "id": "20dc80e4"
      },
      "source": [
        "# 🧑‍💻 NumPy Complete Guided Project\n",
        "**Instructor / Student Colab Notebook** – covers *all* key concepts from `Numpy‑1` to `Numpy‑5`.\n",
        "\n",
        "*Generated: 08 Aug 2025*"
      ]
    },
    {
      "cell_type": "markdown",
      "id": "e8b8b6cf",
      "metadata": {
        "id": "e8b8b6cf"
      },
      "source": [
        "\n",
        "**Table of Contents**\n",
        "\n",
        "1. [Setup](#setup)  \n",
        "2. [Array Creation & Dtypes](#creation)  \n",
        "3. [Array Attributes & Inspection](#attributes)  \n",
        "4. [Indexing, Slicing, Fancy Indexing](#indexing)  \n",
        "5. [Reshaping, Transpose & Copies vs Views](#reshape)  \n",
        "6. [Joining, Splitting, Set & Sorting Ops](#join)  \n",
        "7. [Arithmetic Ops, Universal Functions](#arithmetic)  \n",
        "8. [Broadcasting (Rules + Examples)](#broadcast)  \n",
        "9. [Statistics & Aggregations](#stats)  \n",
        "10. [Random Numbers & Reproducibility](#random)  \n",
        "11. [Structured / Recarrays](#structured)  \n",
        "12. [Linear Algebra Essentials](#linalg)  \n",
        "13. [File I/O (`npy`, `npz`, `txt`)](#io)  \n",
        "14. [Datetime64 & Timedelta64](#datetime)  \n",
        "15. [Masked Arrays & NaNs](#mask)  \n",
        "16. [Mini‑Project — Fitness Data Analysis](#project)  \n",
        "17. [Conclusion & Next Steps](#conclusion)  \n"
      ]
    },
    {
      "cell_type": "markdown",
      "id": "9170f3ee",
      "metadata": {
        "id": "9170f3ee"
      },
      "source": [
        "## <a name='setup'></a>1️⃣ Setup"
      ]
    },
    {
      "cell_type": "code",
      "execution_count": 1,
      "id": "4f54988f",
      "metadata": {
        "colab": {
          "base_uri": "https://localhost:8080/"
        },
        "id": "4f54988f",
        "outputId": "a1249a89-04bc-40b1-ec54-50950171a4eb"
      },
      "outputs": [
        {
          "output_type": "stream",
          "name": "stdout",
          "text": [
            "NumPy version: 2.0.2\n"
          ]
        }
      ],
      "source": [
        "import numpy as np, math, os, pathlib, types, textwrap, random\n",
        "print('NumPy version:', np.__version__)"
      ]
    },
    {
      "cell_type": "markdown",
      "id": "c7f7b2c8",
      "metadata": {
        "id": "c7f7b2c8"
      },
      "source": [
        "## <a name='creation'></a>2️⃣ Array Creation & Dtypes"
      ]
    },
    {
      "cell_type": "markdown",
      "id": "47405152",
      "metadata": {
        "id": "47405152"
      },
      "source": [
        "Key functions: `np.array`, `np.arange`, `np.linspace`, `zeros`, `ones`, `full`, `eye`, `identity`, `diag`, `empty`"
      ]
    },
    {
      "cell_type": "code",
      "execution_count": null,
      "id": "801e99ad",
      "metadata": {
        "id": "801e99ad"
      },
      "outputs": [],
      "source": [
        "# EXAMPLE\n",
        "arr1 = np.array([1, 2, 3], dtype=np.int32)\n",
        "arr2 = np.linspace(0, 1, 6)\n",
        "arr3 = np.full((2,3), 7.5)\n",
        "print(arr1, arr2, arr3, sep=\"\\n\")\n",
        "print(\"dtypes:\", arr1.dtype, arr2.dtype)\n"
      ]
    },
    {
      "cell_type": "code",
      "execution_count": 3,
      "id": "dc63d076",
      "metadata": {
        "colab": {
          "base_uri": "https://localhost:8080/"
        },
        "id": "dc63d076",
        "outputId": "1b7d6403-7a17-49e7-dc98-263f791be506"
      },
      "outputs": [
        {
          "output_type": "stream",
          "name": "stdout",
          "text": [
            "[[1 0 1 0 1 0 1 0 1 0]\n",
            " [0 1 0 1 0 1 0 1 0 1]\n",
            " [1 0 1 0 1 0 1 0 1 0]\n",
            " [0 1 0 1 0 1 0 1 0 1]\n",
            " [1 0 1 0 1 0 1 0 1 0]\n",
            " [0 1 0 1 0 1 0 1 0 1]\n",
            " [1 0 1 0 1 0 1 0 1 0]\n",
            " [0 1 0 1 0 1 0 1 0 1]\n",
            " [1 0 1 0 1 0 1 0 1 0]\n",
            " [0 1 0 1 0 1 0 1 0 1]]\n"
          ]
        }
      ],
      "source": [
        "# 🖊️ TODO: create a 10×10 chessboard pattern using zeros & ones\n",
        "board = np.zeros((10,10), dtype=int)\n",
        "board[::2, ::2] = 1\n",
        "board[1::2, 1::2] = 1\n",
        "print(board)"
      ]
    },
    {
      "cell_type": "markdown",
      "id": "925be762",
      "metadata": {
        "id": "925be762"
      },
      "source": [
        "## <a name='attributes'></a>3️⃣ Array Attributes & Inspection"
      ]
    },
    {
      "cell_type": "markdown",
      "id": "f103bb36",
      "metadata": {
        "id": "f103bb36"
      },
      "source": [
        "`shape`, `ndim`, `size`, `dtype`, `itemsize`, `nbytes`"
      ]
    },
    {
      "cell_type": "code",
      "execution_count": 6,
      "id": "ad3eeda1",
      "metadata": {
        "colab": {
          "base_uri": "https://localhost:8080/"
        },
        "id": "ad3eeda1",
        "outputId": "d9ac2070-f496-4338-cd60-97b82fe0cd57"
      },
      "outputs": [
        {
          "output_type": "stream",
          "name": "stdout",
          "text": [
            "shape (3, 4) ndim 2 size 12 itemsize 8 total bytes 96\n"
          ]
        }
      ],
      "source": [
        "M = np.arange(12).reshape(3,4)\n",
        "print('shape', M.shape, 'ndim', M.ndim, 'size', M.size, 'itemsize', M.itemsize, 'total bytes', M.nbytes)\n"
      ]
    },
    {
      "cell_type": "code",
      "execution_count": 4,
      "id": "5875fefe",
      "metadata": {
        "colab": {
          "base_uri": "https://localhost:8080/"
        },
        "id": "5875fefe",
        "outputId": "f4bb891e-0bc7-4112-9271-093c9a71ccae"
      },
      "outputs": [
        {
          "output_type": "stream",
          "name": "stdout",
          "text": [
            "8000000 bytes\n",
            "7.62939453125 MB\n"
          ]
        }
      ],
      "source": [
        "# 🖊️ TODO: check memory footprint of a 1000×1000 float64 array\n",
        "# Create array\n",
        "arr = np.zeros((1000, 1000), dtype=np.float64)\n",
        "\n",
        "# Check memory usage in bytes\n",
        "print(arr.nbytes, \"bytes\")\n",
        "\n",
        "# Or in MB\n",
        "print(arr.nbytes / (1024**2), \"MB\")"
      ]
    },
    {
      "cell_type": "markdown",
      "id": "bd895660",
      "metadata": {
        "id": "bd895660"
      },
      "source": [
        "## <a name='indexing'></a>4️⃣ Indexing, Slicing & Fancy Indexing"
      ]
    },
    {
      "cell_type": "code",
      "execution_count": 5,
      "id": "5dc7d4c1",
      "metadata": {
        "colab": {
          "base_uri": "https://localhost:8080/"
        },
        "id": "5dc7d4c1",
        "outputId": "8d268c2e-bc40-4d3a-e2fc-e1e900f9dc91"
      },
      "outputs": [
        {
          "output_type": "stream",
          "name": "stdout",
          "text": [
            "[ 1  6 11 16 21]\n",
            "[[ 1  3  5]\n",
            " [11 13 15]\n",
            " [21 23 25]]\n",
            "multiples of 3: [ 3  6  9 12 15 18 21 24]\n"
          ]
        }
      ],
      "source": [
        "a = np.arange(1,26).reshape(5,5)\n",
        "print(a[:, 0])     # first column\n",
        "print(a[::2, ::2]) # every 2nd row/col\n",
        "mask = (a % 3 == 0)\n",
        "print('multiples of 3:', a[mask])\n"
      ]
    },
    {
      "cell_type": "code",
      "execution_count": 7,
      "id": "9c4bd5f4",
      "metadata": {
        "colab": {
          "base_uri": "https://localhost:8080/"
        },
        "id": "9c4bd5f4",
        "outputId": "82457938-3914-478a-8597-262bfc14eb93"
      },
      "outputs": [
        {
          "output_type": "stream",
          "name": "stdout",
          "text": [
            "Original:\n",
            " [[ 1  2  3]\n",
            " [ 4  5  6]\n",
            " [ 7  8  9]\n",
            " [10 11 12]]\n",
            "\n",
            "After swapping first and last rows:\n",
            " [[10 11 12]\n",
            " [ 4  5  6]\n",
            " [ 7  8  9]\n",
            " [ 1  2  3]]\n"
          ]
        }
      ],
      "source": [
        "# 🖊️ TODO: use fancy indexing to swap first and last rows of `a`\n",
        "\n",
        "# Example array\n",
        "a = np.arange(1, 13).reshape(4, 3)\n",
        "print(\"Original:\\n\", a)\n",
        "\n",
        "# Swap first and last rows using fancy indexing\n",
        "a[[0, -1]] = a[[-1, 0]]\n",
        "\n",
        "print(\"\\nAfter swapping first and last rows:\\n\", a)\n"
      ]
    },
    {
      "cell_type": "markdown",
      "id": "8f4de1d5",
      "metadata": {
        "id": "8f4de1d5"
      },
      "source": [
        "## <a name='reshape'></a>5️⃣ Reshaping, Transpose & Copies vs Views"
      ]
    },
    {
      "cell_type": "code",
      "execution_count": 8,
      "id": "053b4ff4",
      "metadata": {
        "colab": {
          "base_uri": "https://localhost:8080/"
        },
        "id": "053b4ff4",
        "outputId": "fc5ab1ef-3d20-4a33-f8ad-f55c123f494d"
      },
      "outputs": [
        {
          "output_type": "stream",
          "name": "stdout",
          "text": [
            "b is modified: [99  1  2  3  4  5  6  7]\n",
            "b unchanged with copy: [99  1  2  3  4  5  6  7]\n"
          ]
        }
      ],
      "source": [
        "b = np.arange(8)\n",
        "B = b.reshape(2,4)\n",
        "B[0,0] = 99\n",
        "print('b is modified:', b)\n",
        "C = b.reshape(2,4).copy()\n",
        "C[0,0] = -1\n",
        "print('b unchanged with copy:', b)\n"
      ]
    },
    {
      "cell_type": "code",
      "execution_count": 10,
      "id": "a3e599bd",
      "metadata": {
        "colab": {
          "base_uri": "https://localhost:8080/"
        },
        "id": "a3e599bd",
        "outputId": "8f47267f-5523-4281-980a-44dbde2d660e"
      },
      "outputs": [
        {
          "output_type": "stream",
          "name": "stdout",
          "text": [
            "Original array:\n",
            " [[[ 0  1  2  3]\n",
            "  [ 4  5  6  7]\n",
            "  [ 8  9 10 11]]\n",
            "\n",
            " [[12 13 14 15]\n",
            "  [16 17 18 19]\n",
            "  [20 21 22 23]]]\n",
            "\n",
            "Flattened with ravel():\n",
            " [ 0  1  2  3  4  5  6  7  8  9 10 11 12 13 14 15 16 17 18 19 20 21 22 23]\n",
            "\n",
            "Flattened with flatten():\n",
            " [ 0  1  2  3  4  5  6  7  8  9 10 11 12 13 14 15 16 17 18 19 20 21 22 23]\n",
            "\n",
            "After modifying ravel()[0] = 999:\n",
            "Original array:\n",
            " [[[999   1   2   3]\n",
            "  [  4   5   6   7]\n",
            "  [  8   9  10  11]]\n",
            "\n",
            " [[ 12  13  14  15]\n",
            "  [ 16  17  18  19]\n",
            "  [ 20  21  22  23]]]\n",
            "Flattened ravel:\n",
            " [999   1   2   3   4   5   6   7   8   9  10  11  12  13  14  15  16  17\n",
            "  18  19  20  21  22  23]\n",
            "Flattened flatten:\n",
            " [ 0  1  2  3  4  5  6  7  8  9 10 11 12 13 14 15 16 17 18 19 20 21 22 23]\n"
          ]
        }
      ],
      "source": [
        "# 🖊️ TODO: Flatten a 3‑D array into 1‑D using both `ravel` and `flatten`; observe copy vs view.\n",
        "# Create a 3-D array\n",
        "arr = np.arange(24).reshape(2, 3, 4)\n",
        "print(\"Original array:\\n\", arr)\n",
        "\n",
        "# Flatten using ravel (view)\n",
        "r = arr.ravel()\n",
        "print(\"\\nFlattened with ravel():\\n\", r)\n",
        "\n",
        "# Flatten using flatten (copy)\n",
        "f = arr.flatten()\n",
        "print(\"\\nFlattened with flatten():\\n\", f)\n",
        "\n",
        "# Modify the ravel view\n",
        "r[0] = 999\n",
        "print(\"\\nAfter modifying ravel()[0] = 999:\")\n",
        "print(\"Original array:\\n\", arr)    # Changes reflect here\n",
        "print(\"Flattened ravel:\\n\", r)\n",
        "print(\"Flattened flatten:\\n\", f)  # No change here\n"
      ]
    },
    {
      "cell_type": "markdown",
      "id": "2390c4ae",
      "metadata": {
        "id": "2390c4ae"
      },
      "source": [
        "## <a name='join'></a>6️⃣ Joining, Splitting, Set & Sorting Ops"
      ]
    },
    {
      "cell_type": "code",
      "execution_count": 9,
      "id": "a53f640a",
      "metadata": {
        "colab": {
          "base_uri": "https://localhost:8080/"
        },
        "id": "a53f640a",
        "outputId": "3df1ffad-4ff1-418a-f7ff-e6290eb054ab"
      },
      "outputs": [
        {
          "output_type": "stream",
          "name": "stdout",
          "text": [
            "union [1 2 3 4 5 6]\n",
            "intersect [1 2]\n",
            "sorted descending [6 5 4 3 2 1]\n"
          ]
        }
      ],
      "source": [
        "x = np.array([1,3,5]); y = np.array([2,4,6])\n",
        "xy = np.concatenate([x,y])\n",
        "print('union', np.union1d(x,y))\n",
        "print('intersect', np.intersect1d(xy,[1,2,10]))\n",
        "print('sorted descending', np.sort(xy)[::-1])\n"
      ]
    },
    {
      "cell_type": "code",
      "execution_count": 11,
      "id": "4231e729",
      "metadata": {
        "colab": {
          "base_uri": "https://localhost:8080/"
        },
        "id": "4231e729",
        "outputId": "03eabed5-5bd4-44b1-8fc8-c17d3eeeb65f"
      },
      "outputs": [
        {
          "output_type": "stream",
          "name": "stdout",
          "text": [
            "Original array:\n",
            " [0 1 2 3 4 5 6 7 8 9]\n",
            "\n",
            "First half (x): [0 1 2 3 4]\n",
            "Second half (y): [5 6 7 8 9]\n"
          ]
        }
      ],
      "source": [
        "# 🖊️ TODO: split `xy` back into two equal halves using `np.array_split`\n",
        "import numpy as np\n",
        "\n",
        "# Example array\n",
        "xy = np.arange(10)  # Let's say this is our array\n",
        "print(\"Original array:\\n\", xy)\n",
        "\n",
        "# Split into two equal halves\n",
        "x, y = np.array_split(xy, 2)\n",
        "\n",
        "print(\"\\nFirst half (x):\", x)\n",
        "print(\"Second half (y):\", y)"
      ]
    },
    {
      "cell_type": "markdown",
      "id": "e6ebeb68",
      "metadata": {
        "id": "e6ebeb68"
      },
      "source": [
        "## <a name='arithmetic'></a>7️⃣ Arithmetic Ops & Universal Functions"
      ]
    },
    {
      "cell_type": "code",
      "execution_count": 12,
      "id": "04a6eda9",
      "metadata": {
        "colab": {
          "base_uri": "https://localhost:8080/"
        },
        "id": "04a6eda9",
        "outputId": "4dc12a4b-3f9f-41b5-fb8c-f78701f6cf0c"
      },
      "outputs": [
        {
          "output_type": "stream",
          "name": "stdout",
          "text": [
            "exp [ 1.          2.71828183  7.3890561  20.08553692 54.59815003]\n",
            "sin [ 0.          0.84147098  0.90929743  0.14112001 -0.7568025 ]\n",
            "vectorised addition [10 11 12 13 14]\n"
          ]
        }
      ],
      "source": [
        "v = np.arange(5)\n",
        "print('exp', np.exp(v))\n",
        "print('sin', np.sin(v))\n",
        "print('vectorised addition', v + 10)\n"
      ]
    },
    {
      "cell_type": "code",
      "execution_count": 13,
      "id": "c011f422",
      "metadata": {
        "colab": {
          "base_uri": "https://localhost:8080/"
        },
        "id": "c011f422",
        "outputId": "b94353c2-3d5c-43eb-b668-d93764e129a8"
      },
      "outputs": [
        {
          "output_type": "stream",
          "name": "stdout",
          "text": [
            "Degrees: [ 0 30 45 60 90]\n",
            "Radians: [0.         0.52359878 0.78539816 1.04719755 1.57079633]\n",
            "Sine values: [0.         0.5        0.70710678 0.8660254  1.        ]\n"
          ]
        }
      ],
      "source": [
        "# 🖊️ TODO: given degrees [0,30,45,60,90], compute radians and sin values.\n",
        "# Given degrees\n",
        "degrees = np.array([0, 30, 45, 60, 90])\n",
        "print(\"Degrees:\", degrees)\n",
        "\n",
        "# Convert to radians\n",
        "radians = np.deg2rad(degrees)\n",
        "print(\"Radians:\", radians)\n",
        "\n",
        "# Compute sine values\n",
        "sine_values = np.sin(radians)\n",
        "print(\"Sine values:\", sine_values)"
      ]
    },
    {
      "cell_type": "markdown",
      "id": "7c9a5d70",
      "metadata": {
        "id": "7c9a5d70"
      },
      "source": [
        "## <a name='broadcast'></a>8️⃣ Broadcasting Rules"
      ]
    },
    {
      "cell_type": "markdown",
      "id": "aba2764d",
      "metadata": {
        "id": "aba2764d"
      },
      "source": [
        "Rules: compare dimensions from right → left; stretch size 1 dims; mismatch error."
      ]
    },
    {
      "cell_type": "code",
      "execution_count": 14,
      "id": "6313899c",
      "metadata": {
        "colab": {
          "base_uri": "https://localhost:8080/"
        },
        "id": "6313899c",
        "outputId": "793a4e1e-fabf-4aa3-9341-9f0d4bee7a02"
      },
      "outputs": [
        {
          "output_type": "stream",
          "name": "stdout",
          "text": [
            "[[0 1 2 3 4]\n",
            " [1 2 3 4 5]\n",
            " [2 3 4 5 6]]\n"
          ]
        }
      ],
      "source": [
        "row = np.arange(5)\n",
        "col = np.arange(3).reshape(3,1)\n",
        "matrix = row + col  # broadcast to 3×5\n",
        "print(matrix)\n"
      ]
    },
    {
      "cell_type": "code",
      "execution_count": 15,
      "id": "de718119",
      "metadata": {
        "colab": {
          "base_uri": "https://localhost:8080/"
        },
        "id": "de718119",
        "outputId": "a5d0a80a-4187-451d-d8ed-0e84eada388c"
      },
      "outputs": [
        {
          "output_type": "stream",
          "name": "stdout",
          "text": [
            "10×10 Multiplication Table:\n",
            " [[  1   2   3   4   5   6   7   8   9  10]\n",
            " [  2   4   6   8  10  12  14  16  18  20]\n",
            " [  3   6   9  12  15  18  21  24  27  30]\n",
            " [  4   8  12  16  20  24  28  32  36  40]\n",
            " [  5  10  15  20  25  30  35  40  45  50]\n",
            " [  6  12  18  24  30  36  42  48  54  60]\n",
            " [  7  14  21  28  35  42  49  56  63  70]\n",
            " [  8  16  24  32  40  48  56  64  72  80]\n",
            " [  9  18  27  36  45  54  63  72  81  90]\n",
            " [ 10  20  30  40  50  60  70  80  90 100]]\n"
          ]
        }
      ],
      "source": [
        "# 🖊️ TODO: use broadcasting to create a 10×10 multiplication table.\n",
        "# Create row and column vectors\n",
        "row = np.arange(1, 11).reshape(1, 10)   # Shape (1, 10)\n",
        "col = np.arange(1, 11).reshape(10, 1)   # Shape (10, 1)\n",
        "\n",
        "# Broadcasting multiplication\n",
        "table = row * col\n",
        "\n",
        "print(\"10×10 Multiplication Table:\\n\", table)"
      ]
    },
    {
      "cell_type": "markdown",
      "id": "38a618c8",
      "metadata": {
        "id": "38a618c8"
      },
      "source": [
        "## <a name='stats'></a>9️⃣ Statistics & Aggregations"
      ]
    },
    {
      "cell_type": "code",
      "execution_count": 16,
      "id": "af9ac70d",
      "metadata": {
        "colab": {
          "base_uri": "https://localhost:8080/"
        },
        "id": "af9ac70d",
        "outputId": "b9681cbe-d8c3-4e0c-bc63-ebca11770416"
      },
      "outputs": [
        {
          "output_type": "stream",
          "name": "stdout",
          "text": [
            "data\n",
            " [[85 64 51 27]\n",
            " [31  5  8  2]\n",
            " [18 81 65 91]\n",
            " [50 61 97 73]\n",
            " [63 54 56 93]]\n",
            "row sums [227  46 255 281 266]\n",
            "col means [49.4 53.  55.4 57.2]\n"
          ]
        }
      ],
      "source": [
        "data = np.random.default_rng(0).integers(1, 100, size=(5,4))\n",
        "print('data\\n', data)\n",
        "print('row sums', data.sum(axis=1))\n",
        "print('col means', data.mean(axis=0))\n"
      ]
    },
    {
      "cell_type": "code",
      "execution_count": 17,
      "id": "63adf5be",
      "metadata": {
        "colab": {
          "base_uri": "https://localhost:8080/"
        },
        "id": "63adf5be",
        "outputId": "640f6e42-b7d0-4f0c-ff43-e935fd286b98"
      },
      "outputs": [
        {
          "output_type": "stream",
          "name": "stdout",
          "text": [
            "25th percentile: 30.0\n",
            "50th percentile (median): 50.0\n",
            "75th percentile: 70.0\n"
          ]
        }
      ],
      "source": [
        "# 🖊️ TODO: compute `np.percentile` (25th, 50th, 75th) of flattened `data`.\n",
        "# Example data\n",
        "data = np.array([[10, 20, 30],\n",
        "                 [40, 50, 60],\n",
        "                 [70, 80, 90]])\n",
        "\n",
        "# Flatten and compute percentiles\n",
        "p25 = np.percentile(data, 25)\n",
        "p50 = np.percentile(data, 50)  # Median\n",
        "p75 = np.percentile(data, 75)\n",
        "\n",
        "print(\"25th percentile:\", p25)\n",
        "print(\"50th percentile (median):\", p50)\n",
        "print(\"75th percentile:\", p75)"
      ]
    },
    {
      "cell_type": "markdown",
      "id": "8f3c00d7",
      "metadata": {
        "id": "8f3c00d7"
      },
      "source": [
        "## <a name='random'></a>🔟 Random Numbers & Reproducibility"
      ]
    },
    {
      "cell_type": "code",
      "execution_count": 18,
      "id": "98016975",
      "metadata": {
        "colab": {
          "base_uri": "https://localhost:8080/"
        },
        "id": "98016975",
        "outputId": "40a5f34b-97cc-4cfd-b503-e6110fbb256c"
      },
      "outputs": [
        {
          "output_type": "stream",
          "name": "stdout",
          "text": [
            "[0.77395605 0.43887844 0.85859792 0.69736803 0.09417735] [31 49 39 40 38]\n"
          ]
        }
      ],
      "source": [
        "rng = np.random.default_rng(42)\n",
        "rand_floats = rng.random(5)\n",
        "rand_ints = rng.integers(low=10, high=50, size=5)\n",
        "print(rand_floats, rand_ints)\n",
        "rng2 = np.random.default_rng(42)\n",
        "assert np.allclose(rand_floats, rng2.random(5))\n"
      ]
    },
    {
      "cell_type": "code",
      "execution_count": 19,
      "id": "35dbadba",
      "metadata": {
        "colab": {
          "base_uri": "https://localhost:8080/"
        },
        "id": "35dbadba",
        "outputId": "3ccd6f5a-0e83-497a-e0ad-58be6c442031"
      },
      "outputs": [
        {
          "output_type": "stream",
          "name": "stdout",
          "text": [
            "Rolls: [1 1 5 1 6 5 1 6 2 6 4 6 5 5 6 6 3 2 3 4 1 2 2 6 2 3 4 5 1 3 6 3 5 5 5 5 4\n",
            " 4 6 3 4 1 6 6 1 4 5 2 5 5 4 3 3 2 6 4 1 3 1 4 1 6 1 1 3 4 6 3 6 3 5 5 6 4\n",
            " 6 6 5 5 1 6 4 6 5 5 6 3 3 3 2 6 1 3 2 2 2 5 2 4 1 5]\n",
            "Proportion of 6s: 0.22\n"
          ]
        }
      ],
      "source": [
        "# 🖊️ TODO: simulate rolling a fair six‑sided die 100 times; estimate proportion of 6s.\n",
        "# Simulate 100 rolls (values between 1 and 6)\n",
        "rolls = np.random.randint(1, 7, size=100)\n",
        "\n",
        "# Estimate proportion of 6s\n",
        "proportion_six = np.mean(rolls == 6)\n",
        "\n",
        "print(\"Rolls:\", rolls)\n",
        "print(\"Proportion of 6s:\", proportion_six)"
      ]
    },
    {
      "cell_type": "markdown",
      "id": "6cdb04b2",
      "metadata": {
        "id": "6cdb04b2"
      },
      "source": [
        "## <a name='structured'></a>1️⃣1️⃣ Structured / Record Arrays"
      ]
    },
    {
      "cell_type": "code",
      "execution_count": 20,
      "id": "d8f64e42",
      "metadata": {
        "colab": {
          "base_uri": "https://localhost:8080/"
        },
        "id": "d8f64e42",
        "outputId": "6a4f502c-fa68-4b2f-b3da-9375602fcea3"
      },
      "outputs": [
        {
          "output_type": "stream",
          "name": "stdout",
          "text": [
            "['Alice' 'Bob'] 27.5\n"
          ]
        }
      ],
      "source": [
        "people = np.array([('Alice', 25, 55.0), ('Bob', 30, 85.5)],\n",
        "                   dtype=[('name','U10'), ('age','i4'), ('weight','f4')])\n",
        "print(people['name'], people['age'].mean())\n"
      ]
    },
    {
      "cell_type": "code",
      "execution_count": 41,
      "id": "7a65fe1d",
      "metadata": {
        "colab": {
          "base_uri": "https://localhost:8080/"
        },
        "id": "7a65fe1d",
        "outputId": "fdf63bfe-6679-40ed-ab1a-dddb67795794"
      },
      "outputs": [
        {
          "output_type": "stream",
          "name": "stdout",
          "text": [
            "Original array:\n",
            "[(1, 'Alice') (2, 'Bob')]\n",
            "\n",
            "With 'height' field added:\n",
            "[(1, 'Alice', 165) (2, 'Bob', 180)]\n"
          ]
        }
      ],
      "source": [
        "# 🖊️ TODO: add a new field 'height' to the structured array using `np.lib.recfunctions.append_fields` (hint: pip install?).\n",
        "from numpy.lib import recfunctions as rfn  # no extra pip needed unless numpy is outdated\n",
        "# Example structured array\n",
        "data = np.array([(1, 'Alice'),\n",
        "                 (2, 'Bob')],\n",
        "                dtype=[('id', 'i4'), ('name', 'U10')])\n",
        "\n",
        "print(\"Original array:\")\n",
        "print(data)\n",
        "\n",
        "# New heights to add\n",
        "heights = [165, 180]\n",
        "\n",
        "# Append new field 'height'\n",
        "data_with_height = rfn.append_fields(\n",
        "    data,                      # original structured array\n",
        "    'height',                  # new field name\n",
        "    heights,                    # data for new field\n",
        "    usemask=False\n",
        ")\n",
        "\n",
        "print(\"\\nWith 'height' field added:\")\n",
        "print(data_with_height)"
      ]
    },
    {
      "cell_type": "markdown",
      "id": "df5b617b",
      "metadata": {
        "id": "df5b617b"
      },
      "source": [
        "## <a name='linalg'></a>1️⃣2️⃣ Linear Algebra Essentials"
      ]
    },
    {
      "cell_type": "code",
      "execution_count": null,
      "id": "3f7fb475",
      "metadata": {
        "id": "3f7fb475"
      },
      "outputs": [],
      "source": [
        "A = np.random.random((3,3))\n",
        "b = np.random.random(3)\n",
        "x = np.linalg.solve(A, b)\n",
        "print('A·x ≈ b?', np.allclose(A.dot(x), b))\n"
      ]
    },
    {
      "cell_type": "code",
      "execution_count": 42,
      "id": "a8fb02d7",
      "metadata": {
        "colab": {
          "base_uri": "https://localhost:8080/"
        },
        "id": "a8fb02d7",
        "outputId": "965c3906-9220-48d2-995c-22fc5427ec95"
      },
      "outputs": [
        {
          "output_type": "stream",
          "name": "stdout",
          "text": [
            "Eigenvalues: [5. 2.]\n",
            "\n",
            "Eigenvectors:\n",
            " [[ 0.89442719 -0.70710678]\n",
            " [ 0.4472136   0.70710678]]\n"
          ]
        }
      ],
      "source": [
        "# 🖊️ TODO: compute eigenvalues of `A` using `np.linalg.eig`.\n",
        "A = np.array([[4, 2],\n",
        "              [1, 3]])\n",
        "\n",
        "# Compute eigenvalues and eigenvectors\n",
        "eigenvalues, eigenvectors = np.linalg.eig(A)\n",
        "\n",
        "print(\"Eigenvalues:\", eigenvalues)\n",
        "print(\"\\nEigenvectors:\\n\", eigenvectors)"
      ]
    },
    {
      "cell_type": "markdown",
      "id": "e8fd753c",
      "metadata": {
        "id": "e8fd753c"
      },
      "source": [
        "## <a name='io'></a>1️⃣3️⃣ File I/O (`npy`, `npz`, `txt`)"
      ]
    },
    {
      "cell_type": "code",
      "source": [
        "# Create example arrays\n",
        "A = np.arange(9).reshape(3, 3)\n",
        "b = np.linspace(0, 1, 5)\n",
        "\n",
        "# Save A to a .npy file\n",
        "np.save('array.npy', A)\n",
        "\n",
        "# Load A back\n",
        "loaded = np.load('array.npy')\n",
        "print('loaded equals A?', np.allclose(loaded, A))\n",
        "\n",
        "# Save multiple arrays to a .npz file\n",
        "np.savez('multi_arrays.npz', A=A, b=b)\n",
        "\n",
        "# Load multiple arrays back\n",
        "loaded_multi = np.load('multi_arrays.npz')\n",
        "print(\"\\nKeys in loaded file:\", loaded_multi.files)\n",
        "print(\"A:\\n\", loaded_multi['A'])\n",
        "print(\"b:\", loaded_multi['b'])"
      ],
      "metadata": {
        "colab": {
          "base_uri": "https://localhost:8080/"
        },
        "id": "T6gpt1Py25Xh",
        "outputId": "641a6e4c-c21f-4532-bb52-5ae9ac138535"
      },
      "id": "T6gpt1Py25Xh",
      "execution_count": 25,
      "outputs": [
        {
          "output_type": "stream",
          "name": "stdout",
          "text": [
            "loaded equals A? True\n",
            "\n",
            "Keys in loaded file: ['A', 'b']\n",
            "A:\n",
            " [[0 1 2]\n",
            " [3 4 5]\n",
            " [6 7 8]]\n",
            "b: [0.   0.25 0.5  0.75 1.  ]\n"
          ]
        }
      ]
    },
    {
      "cell_type": "code",
      "execution_count": 26,
      "id": "d9552893",
      "metadata": {
        "colab": {
          "base_uri": "https://localhost:8080/"
        },
        "id": "d9552893",
        "outputId": "654a3fca-5253-472c-d9fa-3b9652562556"
      },
      "outputs": [
        {
          "output_type": "stream",
          "name": "stdout",
          "text": [
            "Data saved to stats_data.csv\n",
            "\n",
            "Loaded data:\n",
            "[[1.5 2.3 3.1]\n",
            " [4.2 5.8 6.4]\n",
            " [7.9 8.6 9. ]]\n",
            "\n",
            "Loaded equals original? True\n"
          ]
        }
      ],
      "source": [
        "# 🖊️ TODO: Use `np.savetxt` to write `data` (from stats section) to CSV then reload with `np.loadtxt`.\n",
        "\n",
        "# Example \"data\" from a stats section\n",
        "data = np.array([[1.5, 2.3, 3.1],\n",
        "                 [4.2, 5.8, 6.4],\n",
        "                 [7.9, 8.6, 9.0]])\n",
        "\n",
        "# Save to CSV\n",
        "np.savetxt(\"stats_data.csv\", data, delimiter=\",\", fmt=\"%.2f\")\n",
        "\n",
        "print(\"Data saved to stats_data.csv\")\n",
        "\n",
        "# Load back from CSV\n",
        "loaded_data = np.loadtxt(\"stats_data.csv\", delimiter=\",\")\n",
        "\n",
        "print(\"\\nLoaded data:\")\n",
        "print(loaded_data)\n",
        "\n",
        "# Verify it matches\n",
        "print(\"\\nLoaded equals original?\", np.allclose(data, loaded_data))\n"
      ]
    },
    {
      "cell_type": "markdown",
      "id": "f24f33e3",
      "metadata": {
        "id": "f24f33e3"
      },
      "source": [
        "## <a name='datetime'></a>1️⃣4️⃣ Datetime64 & Timedelta64"
      ]
    },
    {
      "cell_type": "code",
      "execution_count": 27,
      "id": "3ce7b543",
      "metadata": {
        "colab": {
          "base_uri": "https://localhost:8080/"
        },
        "id": "3ce7b543",
        "outputId": "0bc13ce8-d29e-4d6b-d438-7e716cf3456c"
      },
      "outputs": [
        {
          "output_type": "stream",
          "name": "stdout",
          "text": [
            "['2023-01-01' '2023-01-02' '2023-01-03' '2023-01-04' '2023-01-05'] 1 days\n"
          ]
        }
      ],
      "source": [
        "dates = np.arange('2023-01', '2023-04', dtype='datetime64[D]')\n",
        "delta = dates[1:] - dates[:-1]\n",
        "print(dates[:5], delta[0])\n"
      ]
    },
    {
      "cell_type": "code",
      "execution_count": 29,
      "id": "e493d6f8",
      "metadata": {
        "colab": {
          "base_uri": "https://localhost:8080/"
        },
        "id": "e493d6f8",
        "outputId": "eafea2b1-44ae-4649-d8d2-18cce9980287"
      },
      "outputs": [
        {
          "output_type": "stream",
          "name": "stdout",
          "text": [
            "Number of Mondays: 3\n"
          ]
        }
      ],
      "source": [
        "# 🖊️ TODO: find how many Mondays appear in `dates` array.\n",
        "dates = np.array([\n",
        "    '2025-08-04',  # Monday\n",
        "    '2025-08-05',  # Tuesday\n",
        "    '2025-08-11',  # Monday\n",
        "    '2025-08-13',  # Wednesday\n",
        "    '2025-08-18'   # Monday\n",
        "], dtype='datetime64[D]')\n",
        "\n",
        "# Make 1970-01-05 (Monday) day 0 for correct weekday mapping\n",
        "weekday_numbers = (dates.astype('datetime64[D]') - np.datetime64('1970-01-05')).astype(int) % 7\n",
        "\n",
        "mondays_count = np.sum(weekday_numbers == 0)\n",
        "print(\"Number of Mondays:\", mondays_count)"
      ]
    },
    {
      "cell_type": "markdown",
      "id": "636116b9",
      "metadata": {
        "id": "636116b9"
      },
      "source": [
        "## <a name='mask'></a>1️⃣5️⃣ Masked Arrays & NaNs"
      ]
    },
    {
      "cell_type": "code",
      "execution_count": 30,
      "id": "ec30b3ee",
      "metadata": {
        "colab": {
          "base_uri": "https://localhost:8080/"
        },
        "id": "ec30b3ee",
        "outputId": "c2970cb7-0f55-474a-ecf0-1679b2ae2165"
      },
      "outputs": [
        {
          "output_type": "stream",
          "name": "stdout",
          "text": [
            "2.3333333333333335\n"
          ]
        }
      ],
      "source": [
        "arr = np.array([1, 2, np.nan, 4, np.nan])\n",
        "masked = np.ma.masked_invalid(arr)\n",
        "print(masked.mean())\n"
      ]
    },
    {
      "cell_type": "code",
      "execution_count": 31,
      "id": "1ead3a9c",
      "metadata": {
        "colab": {
          "base_uri": "https://localhost:8080/"
        },
        "id": "1ead3a9c",
        "outputId": "14f349f0-b2f8-4c89-db26-72b376cf117c"
      },
      "outputs": [
        {
          "output_type": "stream",
          "name": "stdout",
          "text": [
            "Original array:\n",
            " [[ 1. nan  3.]\n",
            " [ 4.  5. nan]\n",
            " [ 7.  8.  9.]]\n",
            "\n",
            "After replacing NaNs with column means:\n",
            " [[1.  6.5 3. ]\n",
            " [4.  5.  6. ]\n",
            " [7.  8.  9. ]]\n"
          ]
        }
      ],
      "source": [
        "# 🖊️ TODO: replace NaNs with column means in a 2‑D array containing NaNs.\n",
        "arr = np.array([\n",
        "    [1,  np.nan, 3],\n",
        "    [4,  5,      np.nan],\n",
        "    [7,  8,      9]\n",
        "], dtype=float)\n",
        "\n",
        "print(\"Original array:\\n\", arr)\n",
        "\n",
        "# Compute column means ignoring NaNs\n",
        "col_means = np.nanmean(arr, axis=0)\n",
        "\n",
        "# Find indices where NaNs are present\n",
        "inds = np.where(np.isnan(arr))\n",
        "\n",
        "# Replace NaNs with corresponding column means\n",
        "arr[inds] = np.take(col_means, inds[1])\n",
        "\n",
        "print(\"\\nAfter replacing NaNs with column means:\\n\", arr)"
      ]
    },
    {
      "cell_type": "markdown",
      "id": "509e6104",
      "metadata": {
        "id": "509e6104"
      },
      "source": [
        "## <a name='project'></a>1️⃣6️⃣ Mini‑Project: Fitness Data Analysis"
      ]
    },
    {
      "cell_type": "markdown",
      "id": "d867d3a6",
      "metadata": {
        "id": "d867d3a6"
      },
      "source": [
        "Load `fitness.txt` (tab‑separated) then follow prompts."
      ]
    },
    {
      "cell_type": "code",
      "source": [
        "from google.colab import files\n",
        "uploaded = files.upload()"
      ],
      "metadata": {
        "colab": {
          "base_uri": "https://localhost:8080/",
          "height": 73
        },
        "id": "2zTRWJrj4Hvb",
        "outputId": "7387d1d5-f474-46f5-a3d2-fa3fe6f99c99"
      },
      "id": "2zTRWJrj4Hvb",
      "execution_count": 35,
      "outputs": [
        {
          "output_type": "display_data",
          "data": {
            "text/plain": [
              "<IPython.core.display.HTML object>"
            ],
            "text/html": [
              "\n",
              "     <input type=\"file\" id=\"files-cf6f9fda-5ae0-484b-885a-f3937ef18c6e\" name=\"files[]\" multiple disabled\n",
              "        style=\"border:none\" />\n",
              "     <output id=\"result-cf6f9fda-5ae0-484b-885a-f3937ef18c6e\">\n",
              "      Upload widget is only available when the cell has been executed in the\n",
              "      current browser session. Please rerun this cell to enable.\n",
              "      </output>\n",
              "      <script>// Copyright 2017 Google LLC\n",
              "//\n",
              "// Licensed under the Apache License, Version 2.0 (the \"License\");\n",
              "// you may not use this file except in compliance with the License.\n",
              "// You may obtain a copy of the License at\n",
              "//\n",
              "//      http://www.apache.org/licenses/LICENSE-2.0\n",
              "//\n",
              "// Unless required by applicable law or agreed to in writing, software\n",
              "// distributed under the License is distributed on an \"AS IS\" BASIS,\n",
              "// WITHOUT WARRANTIES OR CONDITIONS OF ANY KIND, either express or implied.\n",
              "// See the License for the specific language governing permissions and\n",
              "// limitations under the License.\n",
              "\n",
              "/**\n",
              " * @fileoverview Helpers for google.colab Python module.\n",
              " */\n",
              "(function(scope) {\n",
              "function span(text, styleAttributes = {}) {\n",
              "  const element = document.createElement('span');\n",
              "  element.textContent = text;\n",
              "  for (const key of Object.keys(styleAttributes)) {\n",
              "    element.style[key] = styleAttributes[key];\n",
              "  }\n",
              "  return element;\n",
              "}\n",
              "\n",
              "// Max number of bytes which will be uploaded at a time.\n",
              "const MAX_PAYLOAD_SIZE = 100 * 1024;\n",
              "\n",
              "function _uploadFiles(inputId, outputId) {\n",
              "  const steps = uploadFilesStep(inputId, outputId);\n",
              "  const outputElement = document.getElementById(outputId);\n",
              "  // Cache steps on the outputElement to make it available for the next call\n",
              "  // to uploadFilesContinue from Python.\n",
              "  outputElement.steps = steps;\n",
              "\n",
              "  return _uploadFilesContinue(outputId);\n",
              "}\n",
              "\n",
              "// This is roughly an async generator (not supported in the browser yet),\n",
              "// where there are multiple asynchronous steps and the Python side is going\n",
              "// to poll for completion of each step.\n",
              "// This uses a Promise to block the python side on completion of each step,\n",
              "// then passes the result of the previous step as the input to the next step.\n",
              "function _uploadFilesContinue(outputId) {\n",
              "  const outputElement = document.getElementById(outputId);\n",
              "  const steps = outputElement.steps;\n",
              "\n",
              "  const next = steps.next(outputElement.lastPromiseValue);\n",
              "  return Promise.resolve(next.value.promise).then((value) => {\n",
              "    // Cache the last promise value to make it available to the next\n",
              "    // step of the generator.\n",
              "    outputElement.lastPromiseValue = value;\n",
              "    return next.value.response;\n",
              "  });\n",
              "}\n",
              "\n",
              "/**\n",
              " * Generator function which is called between each async step of the upload\n",
              " * process.\n",
              " * @param {string} inputId Element ID of the input file picker element.\n",
              " * @param {string} outputId Element ID of the output display.\n",
              " * @return {!Iterable<!Object>} Iterable of next steps.\n",
              " */\n",
              "function* uploadFilesStep(inputId, outputId) {\n",
              "  const inputElement = document.getElementById(inputId);\n",
              "  inputElement.disabled = false;\n",
              "\n",
              "  const outputElement = document.getElementById(outputId);\n",
              "  outputElement.innerHTML = '';\n",
              "\n",
              "  const pickedPromise = new Promise((resolve) => {\n",
              "    inputElement.addEventListener('change', (e) => {\n",
              "      resolve(e.target.files);\n",
              "    });\n",
              "  });\n",
              "\n",
              "  const cancel = document.createElement('button');\n",
              "  inputElement.parentElement.appendChild(cancel);\n",
              "  cancel.textContent = 'Cancel upload';\n",
              "  const cancelPromise = new Promise((resolve) => {\n",
              "    cancel.onclick = () => {\n",
              "      resolve(null);\n",
              "    };\n",
              "  });\n",
              "\n",
              "  // Wait for the user to pick the files.\n",
              "  const files = yield {\n",
              "    promise: Promise.race([pickedPromise, cancelPromise]),\n",
              "    response: {\n",
              "      action: 'starting',\n",
              "    }\n",
              "  };\n",
              "\n",
              "  cancel.remove();\n",
              "\n",
              "  // Disable the input element since further picks are not allowed.\n",
              "  inputElement.disabled = true;\n",
              "\n",
              "  if (!files) {\n",
              "    return {\n",
              "      response: {\n",
              "        action: 'complete',\n",
              "      }\n",
              "    };\n",
              "  }\n",
              "\n",
              "  for (const file of files) {\n",
              "    const li = document.createElement('li');\n",
              "    li.append(span(file.name, {fontWeight: 'bold'}));\n",
              "    li.append(span(\n",
              "        `(${file.type || 'n/a'}) - ${file.size} bytes, ` +\n",
              "        `last modified: ${\n",
              "            file.lastModifiedDate ? file.lastModifiedDate.toLocaleDateString() :\n",
              "                                    'n/a'} - `));\n",
              "    const percent = span('0% done');\n",
              "    li.appendChild(percent);\n",
              "\n",
              "    outputElement.appendChild(li);\n",
              "\n",
              "    const fileDataPromise = new Promise((resolve) => {\n",
              "      const reader = new FileReader();\n",
              "      reader.onload = (e) => {\n",
              "        resolve(e.target.result);\n",
              "      };\n",
              "      reader.readAsArrayBuffer(file);\n",
              "    });\n",
              "    // Wait for the data to be ready.\n",
              "    let fileData = yield {\n",
              "      promise: fileDataPromise,\n",
              "      response: {\n",
              "        action: 'continue',\n",
              "      }\n",
              "    };\n",
              "\n",
              "    // Use a chunked sending to avoid message size limits. See b/62115660.\n",
              "    let position = 0;\n",
              "    do {\n",
              "      const length = Math.min(fileData.byteLength - position, MAX_PAYLOAD_SIZE);\n",
              "      const chunk = new Uint8Array(fileData, position, length);\n",
              "      position += length;\n",
              "\n",
              "      const base64 = btoa(String.fromCharCode.apply(null, chunk));\n",
              "      yield {\n",
              "        response: {\n",
              "          action: 'append',\n",
              "          file: file.name,\n",
              "          data: base64,\n",
              "        },\n",
              "      };\n",
              "\n",
              "      let percentDone = fileData.byteLength === 0 ?\n",
              "          100 :\n",
              "          Math.round((position / fileData.byteLength) * 100);\n",
              "      percent.textContent = `${percentDone}% done`;\n",
              "\n",
              "    } while (position < fileData.byteLength);\n",
              "  }\n",
              "\n",
              "  // All done.\n",
              "  yield {\n",
              "    response: {\n",
              "      action: 'complete',\n",
              "    }\n",
              "  };\n",
              "}\n",
              "\n",
              "scope.google = scope.google || {};\n",
              "scope.google.colab = scope.google.colab || {};\n",
              "scope.google.colab._files = {\n",
              "  _uploadFiles,\n",
              "  _uploadFilesContinue,\n",
              "};\n",
              "})(self);\n",
              "</script> "
            ]
          },
          "metadata": {}
        },
        {
          "output_type": "stream",
          "name": "stdout",
          "text": [
            "Saving fitness.txt to fitness.txt\n"
          ]
        }
      ]
    },
    {
      "cell_type": "code",
      "execution_count": 36,
      "id": "593e50db",
      "metadata": {
        "colab": {
          "base_uri": "https://localhost:8080/"
        },
        "id": "593e50db",
        "outputId": "301a4394-474e-4b57-9028-2c7fe1ce0cb9"
      },
      "outputs": [
        {
          "output_type": "stream",
          "name": "stdout",
          "text": [
            "columns: ('date', 'step_count', 'mood', 'calories_burned', 'hours_of_sleep', 'bool_of_active', 'weight_kg') rows: 96\n"
          ]
        }
      ],
      "source": [
        "fitness = np.genfromtxt('fitness.txt', delimiter='\\t', dtype=None, encoding=None, names=True)\n",
        "print('columns:', fitness.dtype.names, 'rows:', len(fitness))\n"
      ]
    },
    {
      "cell_type": "code",
      "execution_count": 40,
      "id": "32e514d2",
      "metadata": {
        "colab": {
          "base_uri": "https://localhost:8080/"
        },
        "id": "32e514d2",
        "outputId": "03c75479-d670-4ad4-81c0-9a30c61c5f09"
      },
      "outputs": [
        {
          "output_type": "stream",
          "name": "stdout",
          "text": [
            "📅 Monthly Step Count:\n",
            "2017-10: 79051\n",
            "2017-11: 103071\n",
            "2017-12: 89565\n",
            "2018-01: 10163\n",
            "\n",
            "😴 Sleep vs Mood correlation: 0.21041666447300156\n",
            "\n",
            "📊 Weekly Summary (week start, total_steps, avg_sleep, avg_mood, total_calories):\n",
            "2017-10-05: 28451, 5.50, 133.33, 924\n",
            "2017-10-12: 19456, 6.14, 128.57, 622\n",
            "2017-10-19: 19524, 5.71, 142.86, 621\n",
            "2017-10-26: 16055, 6.14, 242.86, 517\n",
            "2017-11-02: 24977, 3.86, 285.71, 811\n",
            "2017-11-09: 27678, 5.86, 300.00, 907\n",
            "2017-11-16: 20375, 5.43, 285.71, 668\n",
            "2017-11-23: 21998, 6.14, 257.14, 721\n",
            "2017-11-30: 20393, 7.00, 300.00, 654\n",
            "2017-12-07: 22494, 4.14, 157.14, 720\n",
            "2017-12-14: 22428, 4.43, 185.71, 729\n",
            "2017-12-21: 19203, 4.43, 157.14, 628\n",
            "2017-12-28: 13000, 3.57, 171.43, 422\n",
            "2018-01-04: 5818, 4.67, 200.00, 27\n"
          ]
        }
      ],
      "source": [
        "# 🖊️ TODO: Monthly step count, sleep vs mood correlation, weekly summary, etc.\n",
        "# Load file\n",
        "data = np.genfromtxt(\"fitness.txt\", delimiter=\"\\t\", names=True, dtype=None, encoding=None)\n",
        "\n",
        "# Convert 'date' from DD-MM-YYYY → YYYY-MM-DD for datetime64\n",
        "date_str = np.array(data['date'], dtype=str)\n",
        "dates = np.array([f\"{d[6:]}-{d[3:5]}-{d[:2]}\" for d in date_str], dtype='datetime64[D]')\n",
        "\n",
        "# Extract other columns\n",
        "steps = data['step_count']\n",
        "mood = data['mood']\n",
        "sleep = data['hours_of_sleep']\n",
        "calories = data['calories_burned']\n",
        "\n",
        "# ===== 1. Monthly step count =====\n",
        "months = dates.astype('datetime64[M]')\n",
        "unique_months = np.unique(months)\n",
        "monthly_steps = [steps[months == m].sum() for m in unique_months]\n",
        "\n",
        "print(\"📅 Monthly Step Count:\")\n",
        "for m, total in zip(unique_months, monthly_steps):\n",
        "    print(f\"{m}: {total}\")\n",
        "\n",
        "# ===== 2. Sleep vs Mood correlation =====\n",
        "sleep_mean = sleep.mean()\n",
        "mood_mean = mood.mean()\n",
        "corr = np.sum((sleep - sleep_mean) * (mood - mood_mean)) / (\n",
        "    np.sqrt(np.sum((sleep - sleep_mean)**2) * np.sum((mood - mood_mean)**2))\n",
        ")\n",
        "print(\"\\n😴 Sleep vs Mood correlation:\", corr)\n",
        "\n",
        "# ===== 3. Weekly summary =====\n",
        "weeks = dates.astype('datetime64[W]')\n",
        "unique_weeks = np.unique(weeks)\n",
        "\n",
        "print(\"\\n📊 Weekly Summary (week start, total_steps, avg_sleep, avg_mood, total_calories):\")\n",
        "for w in unique_weeks:\n",
        "    mask = weeks == w\n",
        "    print(f\"{w}: {steps[mask].sum()}, {sleep[mask].mean():.2f}, {mood[mask].mean():.2f}, {calories[mask].sum()}\")"
      ]
    },
    {
      "cell_type": "markdown",
      "id": "e7c0e1dc",
      "metadata": {
        "id": "e7c0e1dc"
      },
      "source": [
        "## <a name='conclusion'></a>1️⃣7️⃣ Conclusion & Further Practice\n",
        "Congrats on covering **all core NumPy topics** from your five lecture notebooks!\n",
        "\n",
        "*Keep experimenting, read the official docs, and try converting your NumPy pipelines into Pandas or JAX for more fun.*"
      ]
    }
  ],
  "metadata": {
    "colab": {
      "provenance": [],
      "include_colab_link": true
    },
    "language_info": {
      "name": "python"
    },
    "kernelspec": {
      "name": "python3",
      "display_name": "Python 3"
    }
  },
  "nbformat": 4,
  "nbformat_minor": 5
}